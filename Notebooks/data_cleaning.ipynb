{
 "cells": [
  {
   "cell_type": "code",
   "execution_count": 2,
   "metadata": {},
   "outputs": [],
   "source": [
    "import pandas as pd\n",
    "import numpy as np\n",
    "import seaborn as sns\n",
    "import matplotlib.pyplot as plt\n",
    "import warnings\n",
    "import io\n",
    "import sys\n",
    "import os \n",
    "sys.path.append(\"../Scripts\")\n",
    "sys.path.append(\"../\")\n",
    "from data_cleaner import Cleaner\n",
    "from data_summery import Summery\n",
    "from plotter_fun import Plotter"
   ]
  },
  {
   "cell_type": "code",
   "execution_count": 3,
   "metadata": {},
   "outputs": [],
   "source": [
    "warnings.filterwarnings(\"ignore\")\n"
   ]
  },
  {
   "cell_type": "code",
   "execution_count": 4,
   "metadata": {},
   "outputs": [],
   "source": [
    "Summery = Summery()\n",
    "cleaner= Cleaner()\n",
    "Plotter = Plotter()"
   ]
  },
  {
   "cell_type": "code",
   "execution_count": 5,
   "metadata": {},
   "outputs": [],
   "source": [
    "cwd = os.getcwd()\n"
   ]
  },
  {
   "cell_type": "code",
   "execution_count": 10,
   "metadata": {},
   "outputs": [
    {
     "name": "stdout",
     "output_type": "stream",
     "text": [
      "Something went wrong! module 'dvc.api' has no attribute 'api'\n",
      "Something went wrong! module 'dvc.api' has no attribute 'api'\n",
      "Something went wrong! module 'dvc.api' has no attribute 'api'\n",
      "Something went wrong! module 'dvc.api' has no attribute 'api'\n"
     ]
    }
   ],
   "source": [
    "#read the dvc files from the repo\n",
    "repo=\"../\"\n",
    "sample=Summery.read_from_dvc(\"data/sample_submission.csv\", repo, \"sample-v1\", low_memory=False)\n",
    "store=Summery.read_from_dvc(\"data/store.csv\",repo,\"store-v1\",low_memory=False)\n",
    "complete_test=Summery.read_from_dvc(\"data/test.csv\",repo,\"test-v2\",low_memory=False)\n",
    "complete_train=Summery.read_from_dvc(\"data/train.csv\",repo,\"train-v2\",low_memory=False)"
   ]
  },
  {
   "cell_type": "code",
   "execution_count": null,
   "metadata": {},
   "outputs": [],
   "source": []
  }
 ],
 "metadata": {
  "kernelspec": {
   "display_name": "Python 3.10.7 64-bit",
   "language": "python",
   "name": "python3"
  },
  "language_info": {
   "codemirror_mode": {
    "name": "ipython",
    "version": 3
   },
   "file_extension": ".py",
   "mimetype": "text/x-python",
   "name": "python",
   "nbconvert_exporter": "python",
   "pygments_lexer": "ipython3",
   "version": "3.10.7"
  },
  "orig_nbformat": 4,
  "vscode": {
   "interpreter": {
    "hash": "afb734500600fd355917ca529030176ea0ca205570884b88f2f6f7d791fd3fbe"
   }
  }
 },
 "nbformat": 4,
 "nbformat_minor": 2
}
