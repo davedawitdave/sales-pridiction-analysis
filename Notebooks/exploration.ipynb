{
 "cells": [
  {
   "cell_type": "code",
   "execution_count": 16,
   "metadata": {},
   "outputs": [],
   "source": [
    "import pandas as pd\n",
    "import numpy as np\n",
    "import seaborn as sns\n",
    "import matplotlib.pyplot as plt\n",
    "import warnings\n",
    "import sys\n",
    "sys.path.append(\"../Scripts\")\n",
    "from data_cleaner import Cleaner\n",
    "from data_summery import Summery\n",
    "from plotter_fun import Plotter\n"
   ]
  },
  {
   "cell_type": "code",
   "execution_count": 20,
   "metadata": {},
   "outputs": [
    {
     "ename": "TypeError",
     "evalue": "'Summery' object is not callable",
     "output_type": "error",
     "traceback": [
      "\u001b[1;31m---------------------------------------------------------------------------\u001b[0m",
      "\u001b[1;31mTypeError\u001b[0m                                 Traceback (most recent call last)",
      "Cell \u001b[1;32mIn [20], line 2\u001b[0m\n\u001b[0;32m      1\u001b[0m warnings\u001b[38;5;241m.\u001b[39mfilterwarnings(\u001b[38;5;124m\"\u001b[39m\u001b[38;5;124mignore\u001b[39m\u001b[38;5;124m\"\u001b[39m)\n\u001b[1;32m----> 2\u001b[0m Summery \u001b[38;5;241m=\u001b[39m \u001b[43mSummery\u001b[49m\u001b[43m(\u001b[49m\u001b[43m)\u001b[49m\n\u001b[0;32m      3\u001b[0m cleaner\u001b[38;5;241m=\u001b[39m Cleaner()\n\u001b[0;32m      4\u001b[0m Plotter \u001b[38;5;241m=\u001b[39m Plotter()\n",
      "\u001b[1;31mTypeError\u001b[0m: 'Summery' object is not callable"
     ]
    }
   ],
   "source": [
    "\n",
    "warnings.filterwarnings(\"ignore\")\n",
    "Summery = Summery()\n",
    "cleaner= Cleaner()\n",
    "Plotter = Plotter()"
   ]
  },
  {
   "cell_type": "code",
   "execution_count": 19,
   "metadata": {},
   "outputs": [
    {
     "name": "stdout",
     "output_type": "stream",
     "text": [
      "Something went wrong! unknown Git revision 'store-v1'\n",
      "Something went wrong! unknown Git revision 'test-v2'\n",
      "Something went wrong! unknown Git revision 'train-v2'\n"
     ]
    }
   ],
   "source": [
    "#read \n",
    "repo=\"../\"\n",
    "\n",
    "store=Summery.read_from_dvc(\"data/store.csv\",repo,\"store-v1\",low_memory=False)\n",
    "complete_test=Summery.read_from_dvc(\"data/test.csv\",repo,\"test-v2\",low_memory=False)\n",
    "complete_train=Summery.read_from_dvc(\"data/train.csv\",repo,\"train-v2\",low_memory=False)"
   ]
  },
  {
   "cell_type": "code",
   "execution_count": null,
   "metadata": {},
   "outputs": [],
   "source": []
  }
 ],
 "metadata": {
  "kernelspec": {
   "display_name": "Python 3.10.7 64-bit",
   "language": "python",
   "name": "python3"
  },
  "language_info": {
   "codemirror_mode": {
    "name": "ipython",
    "version": 3
   },
   "file_extension": ".py",
   "mimetype": "text/x-python",
   "name": "python",
   "nbconvert_exporter": "python",
   "pygments_lexer": "ipython3",
   "version": "3.10.7"
  },
  "orig_nbformat": 4,
  "vscode": {
   "interpreter": {
    "hash": "afb734500600fd355917ca529030176ea0ca205570884b88f2f6f7d791fd3fbe"
   }
  }
 },
 "nbformat": 4,
 "nbformat_minor": 2
}
